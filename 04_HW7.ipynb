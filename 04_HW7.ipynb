{
  "cells": [
    {
      "cell_type": "markdown",
      "metadata": {
        "id": "view-in-github",
        "colab_type": "text"
      },
      "source": [
        "<a href=\"https://colab.research.google.com/github/minion413/python-w2-functions-ifelse/blob/main/04_HW7.ipynb\" target=\"_parent\"><img src=\"https://colab.research.google.com/assets/colab-badge.svg\" alt=\"Open In Colab\"/></a>"
      ]
    },
    {
      "cell_type": "markdown",
      "id": "3fe2bbea-e66a-4fe2-9358-be2ccc810b53",
      "metadata": {
        "id": "3fe2bbea-e66a-4fe2-9358-be2ccc810b53"
      },
      "source": [
        "**Q1** If my_list=[1, 7, 5, 4, 3, 2]. Print the following\\\n",
        "in the order given (each on a separate line):\n",
        "\n",
        "- The second element in the list.\n",
        "- The third element in the list.\n",
        "- The first element in the list.\n",
        "- The length of the list."
      ]
    },
    {
      "cell_type": "code",
      "execution_count": 1,
      "id": "9fb83bd4-c802-4566-b03f-20515ad2424d",
      "metadata": {
        "colab": {
          "base_uri": "https://localhost:8080/"
        },
        "id": "9fb83bd4-c802-4566-b03f-20515ad2424d",
        "outputId": "ba803716-630a-4ecb-ee82-ed5e041226f1"
      },
      "outputs": [
        {
          "output_type": "stream",
          "name": "stdout",
          "text": [
            "7\n",
            "5\n",
            "1\n",
            "6\n"
          ]
        }
      ],
      "source": [
        "my_list = [1, 7, 5, 4, 3, 2]\n",
        "print(my_list[1])\n",
        "print(my_list[2])\n",
        "print(my_list[0])\n",
        "print(len(my_list))"
      ]
    },
    {
      "cell_type": "markdown",
      "id": "54d963e4-7a63-4ed1-b033-3bfec54b0151",
      "metadata": {
        "id": "54d963e4-7a63-4ed1-b033-3bfec54b0151"
      },
      "source": [
        "**Q2** Implement the following two functions:\n",
        "\n",
        "`check_list_empty(my_list)` should\\\n",
        "return a boolean representing whether the\\\n",
        "list is empty or not.\n",
        "\n",
        "`check_element_in_list(my_list, element)` should\\\n",
        "return a boolean representing whether the element\\\n",
        "is present in the list or not. The list may contain\\\n",
        "integers or strings."
      ]
    },
    {
      "cell_type": "code",
      "execution_count": 6,
      "id": "28600e8f-6e36-494e-8db3-e221c55eab17",
      "metadata": {
        "id": "28600e8f-6e36-494e-8db3-e221c55eab17"
      },
      "outputs": [],
      "source": [
        "def check_list_empty(my_list):\n",
        "    return len(my_list) == 0\n",
        "\n",
        "def check_element_in_list(my_list, element):\n",
        "    return element in my_list"
      ]
    },
    {
      "cell_type": "markdown",
      "id": "d03b810b-60ce-4eba-a2b7-b0b485ceaedb",
      "metadata": {
        "id": "d03b810b-60ce-4eba-a2b7-b0b485ceaedb"
      },
      "source": [
        "**Q3** Implement the function `count_x(nums, x)`. It accepts\\\n",
        "a list of integers nums and an integer x. The function\\\n",
        "should return the number of times the integer `x` \\\n",
        "appears in the list `nums`."
      ]
    },
    {
      "cell_type": "code",
      "execution_count": 16,
      "id": "f35e2169-3f5d-4b62-8087-0ebf6390eec7",
      "metadata": {
        "id": "f35e2169-3f5d-4b62-8087-0ebf6390eec7"
      },
      "outputs": [],
      "source": [
        "def count_x(nums, x):\n",
        "    count = 0\n",
        "    for num in nums:\n",
        "        if num == x:\n",
        "            count += 1\n",
        "    return count"
      ]
    },
    {
      "cell_type": "markdown",
      "id": "1edb403d-bf05-4a89-95dc-3e431801612d",
      "metadata": {
        "id": "1edb403d-bf05-4a89-95dc-3e431801612d"
      },
      "source": [
        "**Q4** Implement the following functions below:\n",
        "\n",
        "- `get_sum(my_list)` should return the sum of\\\n",
        "  all the elements in the list.\n",
        "- `get_min(my_list)` should return the smallest\\\n",
        "  element in the list.\n",
        "- `get_max(my_list)` should return the largest\\\n",
        "  element in the list.\n",
        "  \n",
        "You may assume the list passed in will always\\\n",
        "have at least one element.\n",
        "\n",
        "If you want a challenge, try to implement these\\\n",
        "functions without using the built-in `sum()`, \\\n",
        "`min()`, and `max()` functions. Instead, you can\\\n",
        "use a loop to iterate through the list and keep\\\n",
        "track of the sum, minimum, and maximum."
      ]
    },
    {
      "cell_type": "code",
      "execution_count": 17,
      "id": "2eb200c1-cbfe-402d-bfcc-50089046049a",
      "metadata": {
        "colab": {
          "base_uri": "https://localhost:8080/"
        },
        "id": "2eb200c1-cbfe-402d-bfcc-50089046049a",
        "outputId": "6be88d02-003e-4b3e-c0d9-53ba7631fe43"
      },
      "outputs": [
        {
          "output_type": "stream",
          "name": "stdout",
          "text": [
            "15\n",
            "20\n",
            "3\n",
            "4\n",
            "7\n",
            "6\n"
          ]
        }
      ],
      "source": [
        "#your code here\n",
        "def get_sum(my_list):\n",
        "    total = 0\n",
        "    for num in my_list:\n",
        "        total += num\n",
        "    return total\n",
        "\n",
        "def get_min(my_list):\n",
        "    smallest = my_list[0]\n",
        "    for num in my_list:\n",
        "        if num < smallest:\n",
        "            smallest = num\n",
        "    return smallest\n",
        "\n",
        "def get_max(my_list):\n",
        "    largest = my_list[0]\n",
        "    for num in my_list:\n",
        "        if num > largest:\n",
        "            largest = num\n",
        "    return largest\n",
        "# do not modify below this line\n",
        "print(get_sum([1, 2, 3, 4, 5]))\n",
        "print(get_sum([5, 4, 5, 6]))\n",
        "\n",
        "print(get_min([7, 3, 4, 5]))\n",
        "print(get_min([5, 4, 5, 6]))\n",
        "\n",
        "print(get_max([7, 3, 4, 5]))\n",
        "print(get_max([5, 4, 5, 6]))\n"
      ]
    },
    {
      "cell_type": "markdown",
      "id": "9164416a-5801-4e9f-9556-3044d7c3e118",
      "metadata": {
        "id": "9164416a-5801-4e9f-9556-3044d7c3e118"
      },
      "source": [
        "**Q5** Implement a function called `append_to_list(my_list, elements)`.\\\n",
        "It should append each number from elements to the end of\\\n",
        "`my_list` and return the modified list."
      ]
    },
    {
      "cell_type": "code",
      "execution_count": 18,
      "id": "8a9dcdfc-a37f-4995-a07a-373ce4ce51d5",
      "metadata": {
        "colab": {
          "base_uri": "https://localhost:8080/"
        },
        "id": "8a9dcdfc-a37f-4995-a07a-373ce4ce51d5",
        "outputId": "5c13cf60-694d-423e-cf3e-76a75c52620d"
      },
      "outputs": [
        {
          "output_type": "stream",
          "name": "stdout",
          "text": [
            "[1, 2, 3, 4, 5]\n",
            "[1, 2, 3, 4]\n"
          ]
        }
      ],
      "source": [
        "#your code here\n",
        "def append_to_list(my_list, elements):\n",
        "    for e in elements:\n",
        "        my_list.append(e)\n",
        "    return my_list\n",
        "\n",
        "# do not modify below this line\n",
        "print(append_to_list([1, 2, 3], [4, 5]))\n",
        "print(append_to_list([], [1, 2, 3, 4]))"
      ]
    },
    {
      "cell_type": "markdown",
      "id": "0f13579f-488f-4a44-82a5-c5b5b14ee84c",
      "metadata": {
        "id": "0f13579f-488f-4a44-82a5-c5b5b14ee84c"
      },
      "source": [
        "**Q6** Implement the following two functions:\n",
        "\n",
        "- `remove_from_list(my_list, index)`. It should remove the element\\\n",
        "  at the given index from `my_list` and return the modified list.\n",
        "- `pop_n_from_list(my_list, n)`. It should pop the last `n` elements\\\n",
        "  from `my_list` and return the modified list.\n",
        "  \n",
        "You may assume that the index given to `remove_from_list`\\\n",
        "will always be valid (i.e., it will be within the\\\n",
        "bounds of the list).\\\n",
        "You may also assume that the number of elements to pop from the list\\\n",
        "in `pop_n_from_list` will always be less than or equal to the length of the list."
      ]
    },
    {
      "cell_type": "code",
      "execution_count": 19,
      "id": "38be736c-b06c-4f3d-806b-f7d5c5c5cb0b",
      "metadata": {
        "colab": {
          "base_uri": "https://localhost:8080/"
        },
        "id": "38be736c-b06c-4f3d-806b-f7d5c5c5cb0b",
        "outputId": "7fbc5300-826d-4c49-9b14-470023788c21"
      },
      "outputs": [
        {
          "output_type": "stream",
          "name": "stdout",
          "text": [
            "[1, 2, 4, 5]\n",
            "[2, 3, 4, 5]\n",
            "[1, 2, 3, 4]\n",
            "[1, 2, 3]\n",
            "[1, 2, 3, 4, 5]\n",
            "[]\n"
          ]
        }
      ],
      "source": [
        "#your code here\n",
        "\n",
        "def remove_from_list(my_list, index):\n",
        "    my_list.pop(index)\n",
        "    return my_list\n",
        "\n",
        "def pop_n_from_list(my_list, n):\n",
        "    for _ in range(n):\n",
        "        my_list.pop()\n",
        "    return my_list\n",
        "\n",
        "# don't modify below this line\n",
        "print(remove_from_list([1, 2, 3, 4, 5], 2))\n",
        "print(remove_from_list([1, 2, 3, 4, 5], 0))\n",
        "print(remove_from_list([1, 2, 3, 4, 5], 4))\n",
        "\n",
        "print(pop_n_from_list([1, 2, 3, 4, 5], 2))\n",
        "print(pop_n_from_list([1, 2, 3, 4, 5], 0))\n",
        "print(pop_n_from_list([1, 2, 3, 4, 5], 5))"
      ]
    },
    {
      "cell_type": "markdown",
      "id": "7b95c430-75f3-4189-ad13-23ebf61da8d2",
      "metadata": {
        "id": "7b95c430-75f3-4189-ad13-23ebf61da8d2"
      },
      "source": [
        "**Q7** Implement the `find_index(nums, target)` function. It\\\n",
        "should return the index of the first occurrence of the target number\\\n",
        "in the list. You may assume that the target number will always\\\n",
        "be present in the list.\n",
        "\n",
        "If you want a challenge, try to implement the function without\\\n",
        "using the built-in `index()` method."
      ]
    },
    {
      "cell_type": "code",
      "execution_count": 21,
      "id": "79070742-c1ec-4590-8542-c3ab9d96c92e",
      "metadata": {
        "colab": {
          "base_uri": "https://localhost:8080/"
        },
        "id": "79070742-c1ec-4590-8542-c3ab9d96c92e",
        "outputId": "0bf991fa-45db-4d35-db1e-71a971c2c671"
      },
      "outputs": [
        {
          "output_type": "stream",
          "name": "stdout",
          "text": [
            "2\n",
            "2\n",
            "0\n",
            "3\n"
          ]
        }
      ],
      "source": [
        "\n",
        "#Write your code here\n",
        "def find_index(nums, target):\n",
        "    for i in range(len(nums)):\n",
        "        if nums[i] == target:\n",
        "            return i\n",
        "\n",
        "# don't modify code below this line\n",
        "print(find_index([1, 2, 3, 4, 5], 3))\n",
        "print(find_index([1, 2, 3, 4, 5, 3], 3))\n",
        "print(find_index([1, 2, 3, 4], 1))\n",
        "print(find_index([1, 3, 4, 2], 2))\n"
      ]
    },
    {
      "cell_type": "markdown",
      "id": "6393d8c2-8da7-4a68-87b8-45d8ca8b9277",
      "metadata": {
        "id": "6393d8c2-8da7-4a68-87b8-45d8ca8b9277"
      },
      "source": [
        "**Q8** Implement the function `get_last_three_elements(my_list)`.\\\n",
        "It should return a list containing the last three elements\\\n",
        "of `my_list`. You may assume that the length of\\\n",
        "`my_list` will always be at least three."
      ]
    },
    {
      "cell_type": "code",
      "execution_count": 22,
      "id": "12469f82-8ecf-4bed-bef6-f5e33a0407f1",
      "metadata": {
        "colab": {
          "base_uri": "https://localhost:8080/"
        },
        "id": "12469f82-8ecf-4bed-bef6-f5e33a0407f1",
        "outputId": "f95ec0ae-8d7b-461b-d03b-ad0a500335ad"
      },
      "outputs": [
        {
          "output_type": "stream",
          "name": "stdout",
          "text": [
            "[1, 2, 3]\n",
            "[3, 4, 5]\n",
            "[7, 8, 9]\n"
          ]
        }
      ],
      "source": [
        "#your code here\n",
        "def get_last_three_elements(my_list):\n",
        "    return my_list[-3:]\n",
        "\n",
        "\n",
        "# do not modify below this line\n",
        "print(get_last_three_elements([1, 2, 3]))\n",
        "print(get_last_three_elements([1, 2, 3, 4, 5]))\n",
        "print(get_last_three_elements([1, 2, 3, 4, 5, 6, 7, 8, 9]))\n"
      ]
    },
    {
      "cell_type": "markdown",
      "id": "58340c36-3bb1-4b76-9b6f-347173e4ff00",
      "metadata": {
        "id": "58340c36-3bb1-4b76-9b6f-347173e4ff00"
      },
      "source": [
        "**Q9** Implement a function `create_pair(name, age)`, which\\\n",
        "should combine the `name` and `age` parameters into a tuple\\\n",
        "and return it. The tuple should contain the `name` as\\\n",
        "the first element and the `age` as the second element."
      ]
    },
    {
      "cell_type": "code",
      "execution_count": 23,
      "id": "b44848f2-9590-4ba0-9c1f-fb44a63446aa",
      "metadata": {
        "colab": {
          "base_uri": "https://localhost:8080/"
        },
        "id": "b44848f2-9590-4ba0-9c1f-fb44a63446aa",
        "outputId": "9de7033d-0ec4-478d-e339-0736ba708c58"
      },
      "outputs": [
        {
          "output_type": "stream",
          "name": "stdout",
          "text": [
            "('Alice', 25)\n",
            "('Bob', 30)\n",
            "('Charlie', 35)\n"
          ]
        }
      ],
      "source": [
        "#Your Code here\n",
        "def create_pair(name, age):\n",
        "    return (name, age)\n",
        "# do not modify code below this line\n",
        "print(create_pair(\"Alice\", 25))\n",
        "print(create_pair(\"Bob\", 30))\n",
        "print(create_pair(\"Charlie\", 35))"
      ]
    }
  ],
  "metadata": {
    "kernelspec": {
      "display_name": "Python 3 (ipykernel)",
      "language": "python",
      "name": "python3"
    },
    "language_info": {
      "codemirror_mode": {
        "name": "ipython",
        "version": 3
      },
      "file_extension": ".py",
      "mimetype": "text/x-python",
      "name": "python",
      "nbconvert_exporter": "python",
      "pygments_lexer": "ipython3",
      "version": "3.11.4"
    },
    "colab": {
      "provenance": [],
      "include_colab_link": true
    }
  },
  "nbformat": 4,
  "nbformat_minor": 5
}