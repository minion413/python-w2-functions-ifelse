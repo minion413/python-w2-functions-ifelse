{
 "cells": [
  {
   "cell_type": "code",
   "execution_count": 1,
   "id": "c3be3a5b-95d9-4933-895e-ad4da5819e9b",
   "metadata": {},
   "outputs": [],
   "source": [
    "# icw: w2 python functions if else pt1\n"
   ]
  },
  {
   "cell_type": "code",
   "execution_count": 3,
   "id": "1508d762-ed0b-48fd-bf18-e1a1f00fba0b",
   "metadata": {},
   "outputs": [
    {
     "name": "stdout",
     "output_type": "stream",
     "text": [
      "Hi\n",
      "Hi\n"
     ]
    }
   ],
   "source": [
    "greet = 'Hi'\n",
    "print(greet)\n",
    "print(greet)\n"
   ]
  },
  {
   "cell_type": "code",
   "execution_count": 12,
   "id": "f98f4930-9e9e-446e-adc8-451478742e97",
   "metadata": {},
   "outputs": [],
   "source": [
    "# def is define function\n",
    "def greeting(greet= 'hey'):\n",
    "    print(greet)"
   ]
  },
  {
   "cell_type": "code",
   "execution_count": 16,
   "id": "7d3f4322-7a1f-45c4-ba48-f2bdb3d0f376",
   "metadata": {},
   "outputs": [
    {
     "name": "stdout",
     "output_type": "stream",
     "text": [
      "Good moring\n"
     ]
    }
   ],
   "source": [
    "greeting(greet='Good moring')"
   ]
  },
  {
   "cell_type": "code",
   "execution_count": 14,
   "id": "10e4f669-52c1-4e5d-a094-a9080759085d",
   "metadata": {},
   "outputs": [
    {
     "name": "stdout",
     "output_type": "stream",
     "text": [
      "hey\n"
     ]
    }
   ],
   "source": [
    "greeting()"
   ]
  },
  {
   "cell_type": "code",
   "execution_count": 18,
   "id": "176848da-7c9d-43e2-8d9c-bd74a4d9d3d4",
   "metadata": {},
   "outputs": [],
   "source": [
    "#can you write a function which takes two integars from the user and prints the product of those integars on the screen\n",
    "\n",
    "Also, can you use the result of running the above function and add 10 with that result"
   ]
  },
  {
   "cell_type": "code",
   "execution_count": 33,
   "id": "0933b203-5214-4964-8f08-6f395989d1db",
   "metadata": {},
   "outputs": [],
   "source": [
    "def game1():\n",
    "    num1 = int (input('enter an integar'))\n",
    "    num2 = int (input('enter an integar'))\n",
    "    print(num1*num2)\n",
    "    return num1*num2"
   ]
  },
  {
   "cell_type": "code",
   "execution_count": 34,
   "id": "0019be6e-128f-4e91-9c24-59e5c1a59a83",
   "metadata": {},
   "outputs": [
    {
     "name": "stdin",
     "output_type": "stream",
     "text": [
      "enter an integar 8\n",
      "enter an integar 9\n"
     ]
    },
    {
     "name": "stdout",
     "output_type": "stream",
     "text": [
      "72\n"
     ]
    }
   ],
   "source": [
    "product1 = game1()"
   ]
  },
  {
   "cell_type": "code",
   "execution_count": 35,
   "id": "9c9e0a69-9bda-40e5-93c4-d20f08130656",
   "metadata": {},
   "outputs": [
    {
     "data": {
      "text/plain": [
       "82"
      ]
     },
     "execution_count": 35,
     "metadata": {},
     "output_type": "execute_result"
    }
   ],
   "source": [
    "product1 + 10"
   ]
  },
  {
   "cell_type": "code",
   "execution_count": null,
   "id": "1df50be7-d60e-4a35-b9e0-e3160ad1194c",
   "metadata": {},
   "outputs": [],
   "source": [
    "# write a function that claculates the tip amount given the total bill without tip and tip precentage"
   ]
  },
  {
   "cell_type": "code",
   "execution_count": 63,
   "id": "3191c03b-171d-4ec9-b715-d30ca57a666f",
   "metadata": {},
   "outputs": [],
   "source": [
    "day='Thursday'\n",
    "def tipcal(bill=0, tip_per=15):\n",
    "    tip = bill * tip_per/100\n",
    "    print(day)\n",
    "    return tip"
   ]
  },
  {
   "cell_type": "code",
   "execution_count": 64,
   "id": "4d13f878-2666-4dd1-9885-4f77a2042b31",
   "metadata": {},
   "outputs": [
    {
     "name": "stdout",
     "output_type": "stream",
     "text": [
      "Thursday\n"
     ]
    },
    {
     "data": {
      "text/plain": [
       "20.0"
      ]
     },
     "execution_count": 64,
     "metadata": {},
     "output_type": "execute_result"
    }
   ],
   "source": [
    "tipcal(200, 10)"
   ]
  },
  {
   "cell_type": "code",
   "execution_count": 46,
   "id": "768a2816-f7a7-46e1-8f32-1f0094b7cb63",
   "metadata": {},
   "outputs": [
    {
     "ename": "NameError",
     "evalue": "name 'day' is not defined",
     "output_type": "error",
     "traceback": [
      "\u001b[0;31m---------------------------------------------------------------------------\u001b[0m",
      "\u001b[0;31mNameError\u001b[0m                                 Traceback (most recent call last)",
      "Cell \u001b[0;32mIn[46], line 1\u001b[0m\n\u001b[0;32m----> 1\u001b[0m day\n",
      "\u001b[0;31mNameError\u001b[0m: name 'day' is not defined"
     ]
    }
   ],
   "source": [
    "day"
   ]
  },
  {
   "cell_type": "code",
   "execution_count": 47,
   "id": "224ef975-4195-46ad-9575-1d3b1d6d501c",
   "metadata": {},
   "outputs": [],
   "source": [
    "# day is an ex of scope of a variable \n",
    "a var outside function is a global = \n",
    "a var inside the function is a local ="
   ]
  },
  {
   "cell_type": "code",
   "execution_count": null,
   "id": "642a78e1-1d7d-42c5-9831-dc0aa82a9bf4",
   "metadata": {},
   "outputs": [],
   "source": []
  }
 ],
 "metadata": {
  "kernelspec": {
   "display_name": "Python [conda env:base] *",
   "language": "python",
   "name": "conda-base-py"
  },
  "language_info": {
   "codemirror_mode": {
    "name": "ipython",
    "version": 3
   },
   "file_extension": ".py",
   "mimetype": "text/x-python",
   "name": "python",
   "nbconvert_exporter": "python",
   "pygments_lexer": "ipython3",
   "version": "3.13.5"
  }
 },
 "nbformat": 4,
 "nbformat_minor": 5
}
