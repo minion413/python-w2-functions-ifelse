{
 "cells": [
  {
   "cell_type": "code",
   "execution_count": 1,
   "id": "f91d4596-de58-4ab5-94d9-bb31e516b3ac",
   "metadata": {},
   "outputs": [],
   "source": [
    "# icw: w2 python functions if else  pt2"
   ]
  },
  {
   "cell_type": "code",
   "execution_count": 3,
   "id": "62ea1841-d79f-4836-8e66-5c601ae22471",
   "metadata": {},
   "outputs": [
    {
     "data": {
      "text/plain": [
       "True"
      ]
     },
     "execution_count": 3,
     "metadata": {},
     "output_type": "execute_result"
    }
   ],
   "source": [
    "4==4 #bullent variables"
   ]
  },
  {
   "cell_type": "code",
   "execution_count": 4,
   "id": "6e34a702-6404-45b8-bd21-06a7f23a79f0",
   "metadata": {},
   "outputs": [
    {
     "data": {
      "text/plain": [
       "False"
      ]
     },
     "execution_count": 4,
     "metadata": {},
     "output_type": "execute_result"
    }
   ],
   "source": [
    "4==5"
   ]
  },
  {
   "cell_type": "code",
   "execution_count": 6,
   "id": "cf90ee89-dd83-4f08-95b8-60bbd99ebf67",
   "metadata": {},
   "outputs": [
    {
     "data": {
      "text/plain": [
       "True"
      ]
     },
     "execution_count": 6,
     "metadata": {},
     "output_type": "execute_result"
    }
   ],
   "source": [
    "4!=5 #yes 4 is not = to 5"
   ]
  },
  {
   "cell_type": "code",
   "execution_count": 10,
   "id": "2d97c195-dbc8-4315-8516-f3c2dfce45c5",
   "metadata": {},
   "outputs": [
    {
     "data": {
      "text/plain": [
       "0"
      ]
     },
     "execution_count": 10,
     "metadata": {},
     "output_type": "execute_result"
    }
   ],
   "source": [
    "int(4>=5) #if () rather than 4 is will return 0 "
   ]
  },
  {
   "cell_type": "code",
   "execution_count": 15,
   "id": "ec9ecfc6-8207-459d-9456-13932ed52231",
   "metadata": {},
   "outputs": [
    {
     "name": "stdin",
     "output_type": "stream",
     "text": [
      "Enter an integar 8\n",
      "Enter an integar 9\n"
     ]
    },
    {
     "name": "stdout",
     "output_type": "stream",
     "text": [
      "you lose:(\n"
     ]
    }
   ],
   "source": [
    "# if is for stament dont use it for a var\n",
    "a = int(input('Enter an integar'))\n",
    "b = int(input('Enter an integar'))\n",
    "if a>b:\n",
    "    print('you win!')\n",
    "else:\n",
    "    print('you lose:(')"
   ]
  },
  {
   "cell_type": "code",
   "execution_count": 20,
   "id": "fd043eec-8ad0-4795-862a-a7b2959ae297",
   "metadata": {},
   "outputs": [],
   "source": [
    "#discount ex , you want to give a 25% discount for seniors older than 65. \n",
    "you want to give a discount of 15% for seniros older than 50 but younger than 65 \n",
    "you want to give discount of 10% for children younger than 10\n",
    "No discount for anyone else "
   ]
  },
  {
   "cell_type": "code",
   "execution_count": 24,
   "id": "196eea21-6fba-4a65-93f6-5ac167798e1d",
   "metadata": {},
   "outputs": [
    {
     "name": "stdin",
     "output_type": "stream",
     "text": [
      "Enter your age: 70\n"
     ]
    }
   ],
   "source": [
    "Age = int(input('Enter your age:'))"
   ]
  },
  {
   "cell_type": "code",
   "execution_count": 30,
   "id": "01331f3e-110f-4969-a2bd-d76cf9272759",
   "metadata": {},
   "outputs": [
    {
     "name": "stdout",
     "output_type": "stream",
     "text": [
      "you get a 25% discount!\n"
     ]
    }
   ],
   "source": [
    "if Age>=65:\n",
    "    print('you get a 25% discount!')\n",
    "elif 50<Age<65:\n",
    "    print('you get a 15% discount!')\n",
    "elif Age<10:\n",
    "    print('you get a 10% discount!')\n",
    "else:\n",
    "    print('sorry, no discount')\n",
    "    "
   ]
  },
  {
   "cell_type": "code",
   "execution_count": 23,
   "id": "48d6f100-62a3-4176-9c33-89ae299093b4",
   "metadata": {},
   "outputs": [
    {
     "name": "stdout",
     "output_type": "stream",
     "text": [
      "got it\n"
     ]
    }
   ],
   "source": [
    "a = 7\n",
    "if 3<a<10:\n",
    "    print('got it')"
   ]
  },
  {
   "cell_type": "code",
   "execution_count": null,
   "id": "9e29bddf-f1f7-4db4-8aea-d929d96c02a2",
   "metadata": {},
   "outputs": [],
   "source": [
    "we did functions \n",
    "if/elif/else staements \n",
    "\n",
    "next time we are talking about \n",
    "lists/sets/tuples/dictionary\n",
    "for/ while loop"
   ]
  }
 ],
 "metadata": {
  "kernelspec": {
   "display_name": "Python [conda env:base] *",
   "language": "python",
   "name": "conda-base-py"
  },
  "language_info": {
   "codemirror_mode": {
    "name": "ipython",
    "version": 3
   },
   "file_extension": ".py",
   "mimetype": "text/x-python",
   "name": "python",
   "nbconvert_exporter": "python",
   "pygments_lexer": "ipython3",
   "version": "3.13.5"
  }
 },
 "nbformat": 4,
 "nbformat_minor": 5
}
